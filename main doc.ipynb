{
 "cells": [
  {
   "cell_type": "code",
   "execution_count": 56,
   "metadata": {},
   "outputs": [],
   "source": [
    "import numpy as np\n",
    "import matplotlib.pyplot as plt"
   ]
  },
  {
   "cell_type": "markdown",
   "metadata": {},
   "source": [
    "Question 6 : On essaie avec un simple algo de descente avec un pas constant pour voir ce que ça donne..."
   ]
  },
  {
   "cell_type": "code",
   "execution_count": 57,
   "metadata": {},
   "outputs": [
    {
     "name": "stdout",
     "output_type": "stream",
     "text": [
      "[0.03663127777746836, 0.026065814897018716, 0.01829189407685574, 0.012659430854971494, 0.008640478948188132, 0.005816069452371114, 0.0038609082724554186, 0.0025276533645532304, 0.0016319756701442965, 0.0010391493643096769, 0.0006525449076063968, 0.0004041205781022542, 0.0002468196081733591, 0.00014866765243813748, 8.831234989552098e-05, 5.173620044530824e-05, 2.9890677049562902e-05, 1.7031194402419723e-05, 9.570234784258018e-06, 5.303568844029745e-06, 2.898557774295522e-06, 1.5622978816608982e-06, 8.304507063120633e-07, 4.3534344126393416e-07, 2.2507034943851823e-07, 1.1475528521462518e-07, 5.7702581144975366e-08, 2.8614483837135376e-08, 1.399409198853013e-08, 6.749500978644963e-09, 3.2104561103712233e-09, 1.5060172342870345e-09, 6.967248145791267e-10, 3.1787820189032735e-10, 1.4303039861237487e-10, 6.346935464406596e-11, 2.7775887729928042e-11, 1.1987812620108949e-11, 5.1024654885527254e-12, 2.1418464765016153e-12, 8.866755492656092e-13, 3.6200057408433853e-13, 1.4575448191639384e-13, 5.787655986530753e-14, 2.266478649595095e-14, 8.7532370057417e-15, 3.333910027770438e-15, 1.2522965817745957e-15, 4.639045660487139e-16, 1.6947991259070684e-16, 6.106269215617308e-17, 2.1697105280858756e-17] \n",
      " [0. 0. 0. 0. 0. 0. 0. 0. 0. 0. 0. 0. 0. 0. 0. 0. 0. 0. 0. 0. 0. 0. 0. 0.\n",
      " 3. 0. 0. 0. 0. 0. 0. 0. 0. 0. 0. 0. 0. 0. 0. 0. 0. 0. 0. 0. 0. 0. 0. 0.\n",
      " 0. 0. 0. 0.]\n"
     ]
    }
   ],
   "source": [
    "t0=6\n",
    "tf=19\n",
    "dt=0.25\n",
    "N=int((tf-t0)/dt)\n",
    "alpha=100\n",
    "k=0.2\n",
    "Tsat=70\n",
    "Tin=50\n",
    "C=100\n",
    "Pm=3000\n",
    "PN=0\n",
    "E=[2*np.exp(-((t0+dt*i)**2)/9) for i in range(N)]\n",
    "Q=np.zeros(N)\n",
    "Q[int((12-6)/dt)]=3\n",
    "\n",
    "print(E,\"\\n\",Q)"
   ]
  },
  {
   "cell_type": "code",
   "execution_count": 62,
   "metadata": {},
   "outputs": [],
   "source": [
    "def T(x):\n",
    "    T=[Tin]\n",
    "    for i in range(N):\n",
    "        T.append(np.exp(-k*dt)*T[-1]+(1-np.exp(-k*dt))/k*C*(-Q[i]+x[i]))\n",
    "    return T\n",
    "\n",
    "def h(x1,x2):\n",
    "    return (x1*np.exp(-alpha*x1)+x2*np.exp(-alpha*x2))/(np.exp(-alpha*x1)+np.exp(-alpha*x2))\n",
    "\n",
    "def dh(x1,x2): #dérivée de h par rapport à x2\n",
    "    return (np.exp(-alpha*x2)*(1-x2*alpha)*(np.exp(-alpha*x1)+np.exp(-alpha*x2))-(x1*np.exp(-alpha*x1)+x2*np.exp(-alpha*x2))*(-alpha*np.exp(-alpha*x2)))/(np.exp(-alpha*x1)+np.exp(-alpha*x2))**2\n",
    "\n",
    "def f(x):\n",
    "    return -np.sum([h(E[i],x[i]*dt) for i in range(N)])\n",
    "\n",
    "def df(x):\n",
    "    return [-dt*dh(E[i],x[i]*dt) for i in range(N)]\n",
    "\n",
    "def projection(x):\n",
    "    Temp=T(x)\n",
    "    for i in range(N):\n",
    "        x[i]=min(x[i],Pm)\n",
    "        x[i]=max(x[i],0) #conditions sur P\n",
    "    if max(Temp)>Tsat:\n",
    "        x=x-0.1 #de manière totalement arbitraire, on diminue P. A changer, demander aux autres comment ils font la projection...\n",
    "    if min(Temp)<0:\n",
    "        x=x+0.1 #idem\n",
    "    x[-1]=0\n",
    "    return x\n",
    "\n",
    "def algo_gradient_avec_projection_pas_constant(f,df,l=0.1,epsilon=0.01,Nmax=500):\n",
    "    #initialisation:\n",
    "    x=[0 for i in range(N)]#on prend tous les Pi=0 constants entre 0 et 3 (0 et PM)\n",
    "    x[int((12-6)/dt)]=3 # sauf pour ti=12 car Qi=3\n",
    "    Temp=T(x)\n",
    "    assert(max(Temp)<Tsat and min(Temp)>0)#on vérifie que cette solution respecte bien l'inégalité sur les températures\n",
    "    print(\"La solution initiale vérifie les contraintes\")\n",
    "    resultats=[f(x)]\n",
    "    #itération\n",
    "    k=0\n",
    "    while k<Nmax :\n",
    "        k+=1\n",
    "        y=[x[m]-l*df(x)[m] for m in range(N)]\n",
    "        x=projection(y)\n",
    "        resultats.append(f(x))\n",
    "    plt.plot(resultats)\n",
    "    return x,T(x),f(x)\n",
    "\n"
   ]
  },
  {
   "cell_type": "code",
   "execution_count": 63,
   "metadata": {},
   "outputs": [
    {
     "name": "stdout",
     "output_type": "stream",
     "text": [
      "La solution initiale vérifie les contraintes\n"
     ]
    },
    {
     "data": {
      "text/plain": [
       "([0.1976636928203163,\n",
       "  0.15540184129851775,\n",
       "  0.12430615801786585,\n",
       "  0.10177630513032887,\n",
       "  0.08570049750319544,\n",
       "  0.07440285951992737,\n",
       "  0.06658221480026458,\n",
       "  0.06124919516865585,\n",
       "  0.057666484391020116,\n",
       "  0.05529517916768164,\n",
       "  0.05374876134086852,\n",
       "  0.05275506402285195,\n",
       "  0.05212586014313636,\n",
       "  0.05173325232019549,\n",
       "  0.05149183111002501,\n",
       "  0.05134552651222417,\n",
       "  0.051258144418641176,\n",
       "  0.0512067064880526,\n",
       "  0.051176862649579956,\n",
       "  0.05115979598581905,\n",
       "  0.05115017594154011,\n",
       "  0.05114483090196957,\n",
       "  0.05114190351326818,\n",
       "  0.05114032308420799,\n",
       "  3.0,\n",
       "  0.05113904073158378,\n",
       "  0.051138812520767504,\n",
       "  0.05113869616837828,\n",
       "  0.05113863768681088,\n",
       "  0.05113860870844684,\n",
       "  0.051138594552267366,\n",
       "  0.05113858773451186,\n",
       "  0.05113858449734218,\n",
       "  0.051138582981955734,\n",
       "  0.05113858228256452,\n",
       "  0.05113858196432035,\n",
       "  0.05113858182154648,\n",
       "  0.05113858175839418,\n",
       "  0.05113858173085279,\n",
       "  0.05113858171901032,\n",
       "  0.05113858171398963,\n",
       "  0.05113858171189094,\n",
       "  0.05113858171102595,\n",
       "  0.05113858171067443,\n",
       "  0.051138581710533586,\n",
       "  0.05113858171047795,\n",
       "  0.05113858171045627,\n",
       "  0.05113858171044794,\n",
       "  0.05113858171044478,\n",
       "  0.05113858171044361,\n",
       "  0.05113858171044318,\n",
       "  0],\n",
       " [50,\n",
       "  52.38155725211616,\n",
       "  53.61639717627036,\n",
       "  54.03273606210361,\n",
       "  53.879372915252326,\n",
       "  53.34147618253781,\n",
       "  52.55431682992368,\n",
       "  51.614839020069475,\n",
       "  50.5911328653794,\n",
       "  49.52998801575933,\n",
       "  48.46277085092999,\n",
       "  47.40989263772408,\n",
       "  46.384132305871,\n",
       "  45.39305557806668,\n",
       "  44.440740377906145,\n",
       "  43.52898301243529,\n",
       "  42.658124898677684,\n",
       "  41.827608198810076,\n",
       "  41.036341947618126,\n",
       "  40.282938456281265,\n",
       "  39.565862711293335,\n",
       "  38.883524575517136,\n",
       "  38.234334122979895,\n",
       "  37.6167336772057,\n",
       "  37.02921542138313,\n",
       "  35.223279274995235,\n",
       "  34.75245989726203,\n",
       "  34.304597086550665,\n",
       "  33.87857396557593,\n",
       "  33.473326811297284,\n",
       "  33.08784308730651,\n",
       "  32.72115928117787,\n",
       "  32.37235868904746,\n",
       "  32.040569223590424,\n",
       "  31.724961284355192,\n",
       "  31.424745708893752,\n",
       "  31.13917181206094,\n",
       "  30.867525515042658,\n",
       "  30.60912756272222,\n",
       "  30.363331826572686,\n",
       "  30.12952368964165,\n",
       "  29.907118509982723,\n",
       "  29.695560158878607,\n",
       "  29.494319630288427,\n",
       "  29.302893718082796,\n",
       "  29.12080375777748,\n",
       "  28.94759442962754,\n",
       "  28.782832620092787,\n",
       "  28.626106338829143,\n",
       "  28.477023688498512,\n",
       "  28.335211884821437,\n",
       "  28.200316324422275,\n",
       "  26.82497066801829],\n",
       " -0.2580571005527836)"
      ]
     },
     "execution_count": 63,
     "metadata": {},
     "output_type": "execute_result"
    },
    {
     "data": {
      "image/png": "[encoded data removed]",
      "text/plain": [
       "<Figure size 432x288 with 1 Axes>"
      ]
     },
     "metadata": {
      "needs_background": "light"
     },
     "output_type": "display_data"
    }
   ],
   "source": [
    "algo_gradient_avec_projection_pas_constant(f,df)"
   ]
  },
  {
   "cell_type": "code",
   "execution_count": null,
   "metadata": {},
   "outputs": [],
   "source": []
  }
 ],
 "metadata": {
  "interpreter": {
   "hash": "23a6b913c5c0dcb48130fb95bc8c7b084c5a812df45cbb14e417b737a9d4ee46"
  },
  "kernelspec": {
   "display_name": "Python 3.9.5 ('base')",
   "language": "python",
   "name": "python3"
  },
  "language_info": {
   "codemirror_mode": {
    "name": "ipython",
    "version": 3
   },
   "file_extension": ".py",
   "mimetype": "text/x-python",
   "name": "python",
   "nbconvert_exporter": "python",
   "pygments_lexer": "ipython3",
   "version": "3.9.5"
  },
  "orig_nbformat": 4
 },
 "nbformat": 4,
 "nbformat_minor": 2
}
