{
 "cells": [
  {
   "cell_type": "code",
   "execution_count": 1,
   "metadata": {},
   "outputs": [],
   "source": [
    "import numpy as np\n",
    "import matplotlib.pyplot as plt"
   ]
  },
  {
   "cell_type": "markdown",
   "metadata": {},
   "source": [
    "Question 6 : On essaie avec un simple algo de descente avec un pas constant pour voir ce que ça donne..."
   ]
  },
  {
   "cell_type": "code",
   "execution_count": 2,
   "metadata": {},
   "outputs": [
    {
     "name": "stdout",
     "output_type": "stream",
     "text": [
      "[0.03663127777746836, 0.026065814897018716, 0.01829189407685574, 0.012659430854971494, 0.008640478948188132, 0.005816069452371114, 0.0038609082724554186, 0.0025276533645532304, 0.0016319756701442965, 0.0010391493643096769, 0.0006525449076063968, 0.0004041205781022542, 0.0002468196081733591, 0.00014866765243813748, 8.831234989552098e-05, 5.173620044530824e-05, 2.9890677049562902e-05, 1.7031194402419723e-05, 9.570234784258018e-06, 5.303568844029745e-06, 2.898557774295522e-06, 1.5622978816608982e-06, 8.304507063120633e-07, 4.3534344126393416e-07, 2.2507034943851823e-07, 1.1475528521462518e-07, 5.7702581144975366e-08, 2.8614483837135376e-08, 1.399409198853013e-08, 6.749500978644963e-09, 3.2104561103712233e-09, 1.5060172342870345e-09, 6.967248145791267e-10, 3.1787820189032735e-10, 1.4303039861237487e-10, 6.346935464406596e-11, 2.7775887729928042e-11, 1.1987812620108949e-11, 5.1024654885527254e-12, 2.1418464765016153e-12, 8.866755492656092e-13, 3.6200057408433853e-13, 1.4575448191639384e-13, 5.787655986530753e-14, 2.266478649595095e-14, 8.7532370057417e-15, 3.333910027770438e-15, 1.2522965817745957e-15, 4.639045660487139e-16, 1.6947991259070684e-16, 6.106269215617308e-17, 2.1697105280858756e-17] \n",
      " [0. 0. 0. 0. 0. 0. 0. 0. 0. 0. 0. 0. 0. 0. 0. 0. 0. 0. 0. 0. 0. 0. 0. 0.\n",
      " 3. 0. 0. 0. 0. 0. 0. 0. 0. 0. 0. 0. 0. 0. 0. 0. 0. 0. 0. 0. 0. 0. 0. 0.\n",
      " 0. 0. 0. 0.]\n"
     ]
    }
   ],
   "source": [
    "t0=6\n",
    "tf=19\n",
    "dt=0.25\n",
    "N=int((tf-t0)/dt)\n",
    "alpha=100\n",
    "k=0.2\n",
    "Tsat=70\n",
    "Tin=50\n",
    "C=100\n",
    "Pm=3000\n",
    "PN=0\n",
    "E=[2*np.exp(-((t0+dt*i)**2)/9) for i in range(N)]\n",
    "Q=np.zeros(N)\n",
    "Q[int((12-6)/dt)]=3\n",
    "\n",
    "print(E,\"\\n\",Q)"
   ]
  },
  {
   "cell_type": "code",
   "execution_count": 32,
   "metadata": {},
   "outputs": [],
   "source": [
    "def T(x):\n",
    "    T=[Tin]\n",
    "    for i in range(N):\n",
    "        T.append(np.exp(-k*dt)*T[-1]+(1-np.exp(-k*dt))/k*C*(-Q[i]+x[i]))\n",
    "    return T\n",
    "\n",
    "def h(x1,x2):\n",
    "    return (x1*np.exp(-alpha*x1)+x2*np.exp(-alpha*x2))/(np.exp(-alpha*x1)+np.exp(-alpha*x2))\n",
    "\n",
    "def dh(x1,x2): #dérivée de h par rapport à x2\n",
    "    return (np.exp(-alpha*x2)*(1-x2*alpha)*(np.exp(-alpha*x1)+np.exp(-alpha*x2))-(x1*np.exp(-alpha*x1)+x2*np.exp(-alpha*x2))*(-alpha*np.exp(-alpha*x2)))/(np.exp(-alpha*x1)+np.exp(-alpha*x2))**2\n",
    "\n",
    "def f(x):\n",
    "    return -np.sum([h(E[i],x[i]*dt) for i in range(N)])\n",
    "\n",
    "def df(x):\n",
    "    return [-dt*dh(E[i],x[i]*dt) for i in range(N)]\n",
    "\n",
    "def projection(x):\n",
    "    Temp=T(x)\n",
    "    for i in range(N):\n",
    "        x[i]=min(x[i],Pm)\n",
    "        x[i]=max(x[i],0) #conditions sur P\n",
    "    x[-1]=0\n",
    "    return x\n",
    "\n",
    "def algo_gradient_avec_projection_pas_constant(f,df,l=0.1,epsilon=0.01,Nmax=100):\n",
    "    #initialisation:\n",
    "    x=[0 for i in range(N)]#on prend tous les Pi=0 constants entre 0 et 3 (0 et PM)\n",
    "    x[int((12-6)/dt)]=3 # sauf pour ti=12 car Qi=3\n",
    "    Temp=T(x)\n",
    "    assert(max(Temp)<Tsat and min(Temp)>0)#on vérifie que cette solution respecte bien l'inégalité sur les températures\n",
    "    resultats=[f(x)]\n",
    "    #itération\n",
    "    k=0\n",
    "    while k<Nmax :\n",
    "        k+=1\n",
    "        y=[x[m]-l*df(x)[m] for m in range(N)]\n",
    "        x=projection(y)\n",
    "        resultats.append(f(x))\n",
    "    assert(max(T(x))<Tsat and min(T(x))>0)\n",
    "    print(\"Les contraintes sont passives, on a donc bien un minimum qui respecte toutes les contraintes.\")\n",
    "    plt.plot(resultats)\n",
    "    print(f\"Les pressions Pi qui minimisent f sont : {x}. \\n Cela donne des températures Ti : {T(x)} \\nCela correspond à une valeur minimale de f : {f(x)}\")\n",
    "\n"
   ]
  },
  {
   "cell_type": "code",
   "execution_count": 33,
   "metadata": {},
   "outputs": [
    {
     "name": "stdout",
     "output_type": "stream",
     "text": [
      "Les contraintes sont passives, on a donc bien un minimum qui respecte toutes les contraintes.\n",
      "Les pressions Pi qui minimisent f sont : [0.19766366689796455, 0.15540182072087894, 0.12430614058267737, 0.10177628969022753, 0.08570048341661538, 0.07440284639131169, 0.06658220235995126, 0.0612491832197452, 0.05766647278643652, 0.055295167798775954, 0.05374875012947938, 0.052755052914416165, 0.05212584910063229, 0.05173324131913302, 0.05149182013456341, 0.051345515552321225, 0.05125813346804688, 0.05120669554294351, 0.05117685170765526, 0.05115978504571603, 0.05115016500246413, 0.051144819963464296, 0.05114189257507549, 0.051140312146184044, 3.0, 0.051139029793696784, 0.051138801582904875, 0.05113868523052808, 0.05113862674896692, 0.051138597770605976, 0.05113858361442801, 0.05113857679667324, 0.05113857355950391, 0.05113857204411761, 0.05113857134472648, 0.051138571026482345, 0.05113857088370848, 0.0511385708205562, 0.05113857079301481, 0.051138570781172336, 0.051138570776151644, 0.05113857077405294, 0.051138570773187966, 0.05113857077283645, 0.0511385707726956, 0.05113857077263996, 0.051138570772618276, 0.051138570772609956, 0.051138570772606806, 0.05113857077260562, 0.05113857077260519, 0]. \n",
      " Cela donne des températures Ti : [50, 52.38155661999215, 53.61639607318377, 54.0327345876531, 53.879371136200305, 53.341474146745874, 52.554314573273416, 51.61483657011673, 50.591130243534636, 49.529985238802325, 48.462767932172746, 47.40988958792335, 46.384129133928404, 45.3930522915469, 44.44073698340776, 43.528979515848754, 42.658121305361306, 41.827604513708415, 41.03633817534136, 40.28293460115863, 39.56585877740969, 38.883520566738746, 38.23433004297333, 37.61672952945243, 37.0292112091913, 35.22327526823443, 34.752455819189734, 34.30459294064537, 33.8785697551462, 33.47332253949016, 33.087838757115485, 32.72115489545039, 32.37235425049209, 32.04056473478362, 31.724956747747754, 31.424741126816944, 31.13916718673233, 30.867520848571658, 30.60912285711537, 30.36332708373866, 30.12951891139604, 29.907113698052576, 29.695555314906734, 29.49431475583752, 29.302888814639346, 29.12079882675546, 28.947589472371973, 28.7828276378831, 28.626101332882364, 28.477018659972316, 28.33520683481703, 28.20031125398716, 26.824965844871215] \n",
      "Cela correspond à une valeur minimale de f : -0.25805710055277853\n"
     ]
    },
    {
     "data": {
      "image/png": "[encoded data removed]",
      "text/plain": [
       "<Figure size 432x288 with 1 Axes>"
      ]
     },
     "metadata": {
      "needs_background": "light"
     },
     "output_type": "display_data"
    }
   ],
   "source": [
    "algo_gradient_avec_projection_pas_constant(f,df)"
   ]
  },
  {
   "cell_type": "code",
   "execution_count": null,
   "metadata": {},
   "outputs": [],
   "source": []
  }
 ],
 "metadata": {
  "interpreter": {
   "hash": "23a6b913c5c0dcb48130fb95bc8c7b084c5a812df45cbb14e417b737a9d4ee46"
  },
  "kernelspec": {
   "display_name": "Python 3.9.5 ('base')",
   "language": "python",
   "name": "python3"
  },
  "language_info": {
   "codemirror_mode": {
    "name": "ipython",
    "version": 3
   },
   "file_extension": ".py",
   "mimetype": "text/x-python",
   "name": "python",
   "nbconvert_exporter": "python",
   "pygments_lexer": "ipython3",
   "version": "3.9.5"
  },
  "orig_nbformat": 4
 },
 "nbformat": 4,
 "nbformat_minor": 2
}
